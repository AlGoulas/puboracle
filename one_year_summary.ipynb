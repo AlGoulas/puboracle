{
 "cells": [
  {
   "cell_type": "markdown",
   "metadata": {},
   "source": [
    "# Overview/goals\n",
    "This project showcases how *puboracle* can be used to mine PubMed and extract info on geospatial location of research activity, networks of collaborations and related matrics.\n",
    "\n",
    "This example tracks publications with the key word \"connectome\" or \"connectomics\" in the last year and dispays key geospatial data and metrics related to these publications."
   ]
  },
  {
   "cell_type": "code",
   "execution_count": null,
   "metadata": {},
   "outputs": [],
   "source": [
    "import math\n",
    "from pathlib import Path\n",
    "import re\n",
    "\n",
    "from puboracle.writestoredata import getdata,readwritefun\n",
    "from puboracle.txtprocess import txt2geo\n",
    "from puboracle.visualization import visfun\n",
    "from puboracle.metrics import txtmetrics"
   ]
  },
  {
   "cell_type": "markdown",
   "metadata": {},
   "source": [
    "Submit query and fetch data in an XML format"
   ]
  },
  {
   "cell_type": "code",
   "execution_count": null,
   "metadata": {},
   "outputs": [],
   "source": [
    "save_folder = '/Users/alexandrosgoulas/Data/example_puboracle_connectomics/xmldata/'\n",
    "query = 'connectomics OR connectome'\n",
    "days = 365\n",
    "email = 'arimpos@gmail.com'\n",
    "\n",
    "getdata.fetch_write_data(\n",
    "                        query = query,\n",
    "                        datetype = 'pdat',\n",
    "                        email = email,\n",
    "                        days = days,\n",
    "                        save_folder = save_folder\n",
    "                        )"
   ]
  },
  {
   "cell_type": "markdown",
   "metadata": {},
   "source": [
    "Read all the XML files that were downloaded"
   ]
  },
  {
   "cell_type": "code",
   "execution_count": null,
   "metadata": {},
   "outputs": [],
   "source": [
    "folder_to_xmls = Path('/Users/alexandrosgoulas/Data/work-stuff/projects/example_puboracle_connectomics/xmldata/')\n",
    "all_xml_files = readwritefun.get_files_in_folder(folder_to_xmls, \n",
    "                                                order = True\n",
    "                                                )"
   ]
  },
  {
   "cell_type": "markdown",
   "metadata": {},
   "source": [
    "Read the XML files and extract the desired info specified by the list keys_to_parse"
   ]
  },
  {
   "cell_type": "code",
   "execution_count": null,
   "metadata": {},
   "outputs": [],
   "source": [
    "keys_to_parse = [\n",
    "                 'affiliations'\n",
    "                ]\n",
    "\n",
    "pub_data, xml_filenames = readwritefun.read_xml_to_dict(folder_to_xmls, \n",
    "                                                        all_xml_files = all_xml_files,\n",
    "                                                        keys_to_parse = keys_to_parse\n",
    "                                                        )"
   ]
  },
  {
   "cell_type": "markdown",
   "metadata": {},
   "source": [
    "Extract affiliations"
   ]
  },
  {
   "cell_type": "code",
   "execution_count": null,
   "metadata": {},
   "outputs": [],
   "source": [
    "affiliations = pub_data[keys_to_parse.index('affiliations')]"
   ]
  },
  {
   "cell_type": "markdown",
   "metadata": {},
   "source": [
    "Get unique affiliations - each affiliation consists of multiple affiliations that are colon-seperated"
   ]
  },
  {
   "cell_type": "code",
   "execution_count": null,
   "metadata": {},
   "outputs": [],
   "source": [
    "(all_affiliations, \n",
    " _, \n",
    " _) = txtmetrics.get_unique_strs(affiliations, \n",
    "                                 exclude=['', ' '] \n",
    "                                )"
   ]
  },
  {
   "cell_type": "markdown",
   "metadata": {},
   "source": [
    "Remove unwanted elements from affiliations:\n",
    "i.  email address \n",
    "ii. author names or initials in parentheses (can also remove acronyms of location but this is OK)   \n",
    "iii. the word \"and\" from the beginning of an affiliation "
   ]
  },
  {
   "cell_type": "code",
   "execution_count": null,
   "metadata": {},
   "outputs": [],
   "source": [
    "all_affiliations_cleaned = []\n",
    "indexes_empty = []\n",
    "for i,affil in enumerate(all_affiliations):\n",
    "    cleaned = re.sub(\"[\\(\\[].*?[\\)\\]]\", \"\", affil)#remove text in parentheses\n",
    "    cleaned = re.sub(\"\\S*@\\S*\\s?\", \"\", cleaned).rstrip()#remove email address\n",
    "    cleaned = cleaned.replace('electronic address:','')# remove 'electronic address:'\n",
    "    cleaned = cleaned.replace('Electronic address:','')# remove 'Electronic address:'\n",
    "    cleaned = re.sub(\"^\\sand\", \"\", cleaned)# remove 'and' from the beggining (preceeded by whitespace)\n",
    "    if not cleaned:\n",
    "        indexes_empty.append(i)\n",
    "    else:    \n",
    "        all_affiliations_cleaned.append(cleaned)"
   ]
  },
  {
   "cell_type": "markdown",
   "metadata": {},
   "source": [
    "Re-assemble the affiliation lists by removing the empty str positions so\n",
    "that we have a 1-to-1 correspondance of cleaned and uncleaned affiliations "
   ]
  },
  {
   "cell_type": "code",
   "execution_count": null,
   "metadata": {},
   "outputs": [],
   "source": [
    "all_affiliations = [item for i,item in enumerate(all_affiliations) if i not in indexes_empty] "
   ]
  },
  {
   "cell_type": "markdown",
   "metadata": {},
   "source": [
    "Get all the unique cleaned affiliations"
   ]
  },
  {
   "cell_type": "code",
   "execution_count": null,
   "metadata": {},
   "outputs": [],
   "source": [
    "(all_affiliations_cleaned, \n",
    " unique_affiliations_cleaned, \n",
    " occurences) = txtmetrics.get_unique_strs(all_affiliations_cleaned)"
   ]
  },
  {
   "cell_type": "markdown",
   "metadata": {},
   "source": [
    "Geolocation: extract latitude and longitude from the textual description of the locations in each affiliation"
   ]
  },
  {
   "cell_type": "code",
   "execution_count": null,
   "metadata": {},
   "outputs": [],
   "source": [
    "lat,lon,txtforloc = txt2geo.get_lat_lon_from_text_wordwise(\n",
    "                                                           unique_affiliations_cleaned,\n",
    "                                                           reverse = False\n",
    "                                                           )"
   ]
  },
  {
   "cell_type": "markdown",
   "metadata": {},
   "source": [
    "Remove lat lon nan entries and visualize the rest on a global map"
   ]
  },
  {
   "cell_type": "code",
   "execution_count": null,
   "metadata": {},
   "outputs": [],
   "source": [
    "lat = [item for item in lat if not math.isnan(item)]\n",
    "lon = [item for item in lon if not math.isnan(item)]\n",
    "visfun.vis_lon_lat(longitude=lon, latitude=lat)"
   ]
  },
  {
   "cell_type": "markdown",
   "metadata": {},
   "source": [
    "The above map offers an overview of the distribution of the location across the globe where research was conducted \n",
    "and resulted in a publication with the keywords \"connectome\" or \"connectomics\" in the last year. "
   ]
  },
  {
   "cell_type": "markdown",
   "metadata": {},
   "source": [
    "Visualize top 10 of affiliations with the max publications, after the merge of nr of publications between affiliations\n",
    "that exceed a string similarity threshold"
   ]
  },
  {
   "cell_type": "code",
   "execution_count": null,
   "metadata": {},
   "outputs": [],
   "source": [
    "(affiliations_nrpubs_topmerged, \n",
    " _) = txtmetrics.add_by_similarity(occurences, \n",
    "                                   topN = 10, \n",
    "                                   look_ahead = 100,\n",
    "                                   threshold = 0.8\n",
    "                                  )\n",
    "                                                     \n",
    "visfun.visualize_counter_selection(affiliations_nrpubs_topmerged)"
   ]
  }
 ],
 "metadata": {
  "kernelspec": {
   "display_name": "Python 3",
   "language": "python",
   "name": "python3"
  },
  "language_info": {
   "codemirror_mode": {
    "name": "ipython",
    "version": 3
   },
   "file_extension": ".py",
   "mimetype": "text/x-python",
   "name": "python",
   "nbconvert_exporter": "python",
   "pygments_lexer": "ipython3",
   "version": "3.8.3"
  }
 },
 "nbformat": 4,
 "nbformat_minor": 4
}
